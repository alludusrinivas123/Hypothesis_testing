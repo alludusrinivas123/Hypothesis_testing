{
 "cells": [
  {
   "cell_type": "markdown",
   "id": "634e4e49-b58a-479b-85e4-838f03095412",
   "metadata": {},
   "source": [
    "# 📌 Problem Statement\n",
    "A real company, Zara, wants to know how the customer satisfaction score varies across three different marketing campaigns over time. The company wants to analyze whether there are significant changes in customer satisfaction over 3 months of different campaigns (Campaign A, B, and C).\n",
    "\n",
    "# 🧠 5W1H\n",
    "What: Customer satisfaction scores\n",
    "\n",
    "Why: To evaluate the effectiveness of three different marketing campaigns\n",
    "\n",
    "When: Data from the last 3 months (January to March)\n",
    "\n",
    "Where: Nationwide (across all Zara stores in the country)\n",
    "\n",
    "Who: 200 customers who experienced all 3 campaigns\n",
    "\n",
    "How: Repeated Measures ANOVA to evaluate if there's a significant difference in satisfaction scores across the three campaigns"
   ]
  },
  {
   "cell_type": "markdown",
   "id": "5cabe045-a300-4bf9-a93b-3680e8e10d34",
   "metadata": {},
   "source": [
    "# Dataset (Simulated with Multiple Columns)\n",
    "We will generate a Repeated Measures dataset where the same 200 customers are surveyed across three different time periods (January, February, March) for their satisfaction with three different campaigns."
   ]
  },
  {
   "cell_type": "code",
   "execution_count": 17,
   "id": "79a18d9d-c81e-4139-abe9-9187ec161425",
   "metadata": {},
   "outputs": [
    {
     "data": {
      "text/html": [
       "<div>\n",
       "<style scoped>\n",
       "    .dataframe tbody tr th:only-of-type {\n",
       "        vertical-align: middle;\n",
       "    }\n",
       "\n",
       "    .dataframe tbody tr th {\n",
       "        vertical-align: top;\n",
       "    }\n",
       "\n",
       "    .dataframe thead th {\n",
       "        text-align: right;\n",
       "    }\n",
       "</style>\n",
       "<table border=\"1\" class=\"dataframe\">\n",
       "  <thead>\n",
       "    <tr style=\"text-align: right;\">\n",
       "      <th></th>\n",
       "      <th>Customer_ID</th>\n",
       "      <th>Month</th>\n",
       "      <th>Campaign</th>\n",
       "    </tr>\n",
       "  </thead>\n",
       "  <tbody>\n",
       "    <tr>\n",
       "      <th>0</th>\n",
       "      <td>1</td>\n",
       "      <td>January</td>\n",
       "      <td>Campaign A</td>\n",
       "    </tr>\n",
       "    <tr>\n",
       "      <th>1</th>\n",
       "      <td>1</td>\n",
       "      <td>January</td>\n",
       "      <td>Campaign B</td>\n",
       "    </tr>\n",
       "    <tr>\n",
       "      <th>2</th>\n",
       "      <td>1</td>\n",
       "      <td>January</td>\n",
       "      <td>Campaign C</td>\n",
       "    </tr>\n",
       "    <tr>\n",
       "      <th>3</th>\n",
       "      <td>1</td>\n",
       "      <td>February</td>\n",
       "      <td>Campaign A</td>\n",
       "    </tr>\n",
       "    <tr>\n",
       "      <th>4</th>\n",
       "      <td>1</td>\n",
       "      <td>February</td>\n",
       "      <td>Campaign B</td>\n",
       "    </tr>\n",
       "  </tbody>\n",
       "</table>\n",
       "</div>"
      ],
      "text/plain": [
       "   Customer_ID     Month    Campaign\n",
       "0            1   January  Campaign A\n",
       "1            1   January  Campaign B\n",
       "2            1   January  Campaign C\n",
       "3            1  February  Campaign A\n",
       "4            1  February  Campaign B"
      ]
     },
     "execution_count": 17,
     "metadata": {},
     "output_type": "execute_result"
    }
   ],
   "source": [
    "import pandas as pd\n",
    "import numpy as np\n",
    "import seaborn as sns\n",
    "import matplotlib.pyplot as plt\n",
    "from statsmodels.formula.api import ols\n",
    "from statsmodels.stats.anova import AnovaRM\n",
    "import statsmodels.api as sm\n",
    "\n",
    "# Set random seed for reproducibility\n",
    "np.random.seed(2025)\n",
    "\n",
    "# Define number of customers\n",
    "n_customers = 200\n",
    "\n",
    "# Create a full factorial design (each customer has one observation per campaign and month combination)\n",
    "df = pd.DataFrame({\n",
    "    'Customer_ID': np.repeat(range(1, n_customers + 1), 3 * 3),  # Repeat customer ID for each combination\n",
    "    'Month': np.tile(np.repeat(['January', 'February', 'March'], 3), n_customers),  # Tile months\n",
    "    'Campaign': np.tile(['Campaign A', 'Campaign B', 'Campaign C'], n_customers * 3),  # Tile campaigns\n",
    "})\n",
    "\n",
    "df.head()"
   ]
  },
  {
   "cell_type": "code",
   "execution_count": 21,
   "id": "c2a8c317-8e80-431c-9ac1-9f93f3de30e7",
   "metadata": {},
   "outputs": [
    {
     "data": {
      "text/html": [
       "<div>\n",
       "<style scoped>\n",
       "    .dataframe tbody tr th:only-of-type {\n",
       "        vertical-align: middle;\n",
       "    }\n",
       "\n",
       "    .dataframe tbody tr th {\n",
       "        vertical-align: top;\n",
       "    }\n",
       "\n",
       "    .dataframe thead th {\n",
       "        text-align: right;\n",
       "    }\n",
       "</style>\n",
       "<table border=\"1\" class=\"dataframe\">\n",
       "  <thead>\n",
       "    <tr style=\"text-align: right;\">\n",
       "      <th></th>\n",
       "      <th>Customer_ID</th>\n",
       "      <th>Month</th>\n",
       "      <th>Campaign</th>\n",
       "      <th>Satisfaction_Score</th>\n",
       "    </tr>\n",
       "  </thead>\n",
       "  <tbody>\n",
       "    <tr>\n",
       "      <th>0</th>\n",
       "      <td>1</td>\n",
       "      <td>January</td>\n",
       "      <td>Campaign A</td>\n",
       "      <td>7.217291</td>\n",
       "    </tr>\n",
       "    <tr>\n",
       "      <th>1</th>\n",
       "      <td>1</td>\n",
       "      <td>January</td>\n",
       "      <td>Campaign B</td>\n",
       "      <td>8.660212</td>\n",
       "    </tr>\n",
       "    <tr>\n",
       "      <th>2</th>\n",
       "      <td>1</td>\n",
       "      <td>January</td>\n",
       "      <td>Campaign C</td>\n",
       "      <td>7.972211</td>\n",
       "    </tr>\n",
       "    <tr>\n",
       "      <th>3</th>\n",
       "      <td>1</td>\n",
       "      <td>February</td>\n",
       "      <td>Campaign A</td>\n",
       "      <td>6.350267</td>\n",
       "    </tr>\n",
       "    <tr>\n",
       "      <th>4</th>\n",
       "      <td>1</td>\n",
       "      <td>February</td>\n",
       "      <td>Campaign B</td>\n",
       "      <td>7.838658</td>\n",
       "    </tr>\n",
       "  </tbody>\n",
       "</table>\n",
       "</div>"
      ],
      "text/plain": [
       "   Customer_ID     Month    Campaign  Satisfaction_Score\n",
       "0            1   January  Campaign A            7.217291\n",
       "1            1   January  Campaign B            8.660212\n",
       "2            1   January  Campaign C            7.972211\n",
       "3            1  February  Campaign A            6.350267\n",
       "4            1  February  Campaign B            7.838658"
      ]
     },
     "execution_count": 21,
     "metadata": {},
     "output_type": "execute_result"
    }
   ],
   "source": [
    "# Simulate satisfaction scores (based on campaigns and months)\n",
    "def get_satisfaction_score(row):\n",
    "    if row['Campaign'] == 'Campaign A' and row['Month'] == 'January':\n",
    "        return np.random.normal(loc=7.5, scale=1.2)\n",
    "    elif row['Campaign'] == 'Campaign A' and row['Month'] == 'February':\n",
    "        return np.random.normal(loc=7.0, scale=1.1)\n",
    "    elif row['Campaign'] == 'Campaign A' and row['Month'] == 'March':\n",
    "        return np.random.normal(loc=6.8, scale=1.0)\n",
    "    elif row['Campaign'] == 'Campaign B' and row['Month'] == 'January':\n",
    "        return np.random.normal(loc=8.0, scale=1.0)\n",
    "    elif row['Campaign'] == 'Campaign B' and row['Month'] == 'February':\n",
    "        return np.random.normal(loc=7.8, scale=1.1)\n",
    "    elif row['Campaign'] == 'Campaign B' and row['Month'] == 'March':\n",
    "        return np.random.normal(loc=7.9, scale=0.9)\n",
    "    elif row['Campaign'] == 'Campaign C' and row['Month'] == 'January':\n",
    "        return np.random.normal(loc=6.5, scale=1.2)\n",
    "    elif row['Campaign'] == 'Campaign C' and row['Month'] == 'February':\n",
    "        return np.random.normal(loc=6.0, scale=1.1)\n",
    "    elif row['Campaign'] == 'Campaign C' and row['Month'] == 'March':\n",
    "        return np.random.normal(loc=6.3, scale=1.3)\n",
    "\n",
    "# Apply the satisfaction score generation\n",
    "df['Satisfaction_Score'] = df.apply(get_satisfaction_score, axis=1)\n",
    "\n",
    "# Check the data structure\n",
    "df.head()\n"
   ]
  },
  {
   "cell_type": "code",
   "execution_count": 23,
   "id": "fc77534a-15cb-41e4-aa5b-c8386870278c",
   "metadata": {},
   "outputs": [
    {
     "name": "stdout",
     "output_type": "stream",
     "text": [
      "Customer_ID           0\n",
      "Month                 0\n",
      "Campaign              0\n",
      "Satisfaction_Score    0\n",
      "dtype: int64\n"
     ]
    },
    {
     "data": {
      "image/png": "[encoded data removed]",
      "text/plain": [
       "<Figure size 1200x600 with 1 Axes>"
      ]
     },
     "metadata": {},
     "output_type": "display_data"
    }
   ],
   "source": [
    "# Check for missing values\n",
    "print(df.isnull().sum())\n",
    "\n",
    "# Boxplot to visualize distribution of satisfaction scores\n",
    "plt.figure(figsize=(12, 6))\n",
    "sns.boxplot(data=df, x='Campaign', y='Satisfaction_Score', hue='Month')\n",
    "plt.title('Satisfaction Score Distribution by Campaign and Month')\n",
    "plt.show()"
   ]
  },
  {
   "cell_type": "code",
   "execution_count": 25,
   "id": "ed80abb9-0d87-4656-a41b-e9c57094fa86",
   "metadata": {},
   "outputs": [
    {
     "name": "stdout",
     "output_type": "stream",
     "text": [
      "                   F Value  Num DF  Den DF        Pr > F\n",
      "Campaign        268.157704     2.0   398.0  1.772241e-74\n",
      "Month            37.666412     2.0   398.0  1.043695e-15\n",
      "Campaign:Month    4.043731     4.0   796.0  2.975403e-03\n"
     ]
    }
   ],
   "source": [
    "# Fit the Repeated Measures ANOVA model\n",
    "model = AnovaRM(df, 'Satisfaction_Score', 'Customer_ID', within=['Campaign', 'Month']).fit()\n",
    "\n",
    "# Run the ANOVA and print the results\n",
    "anova_table = model.anova_table\n",
    "print(anova_table)\n"
   ]
  },
  {
   "cell_type": "code",
   "execution_count": null,
   "id": "7129d1f8-5506-4578-bcdc-6aafac19a288",
   "metadata": {},
   "outputs": [],
   "source": []
  }
 ],
 "metadata": {
  "kernelspec": {
   "display_name": "Python [conda env:base] *",
   "language": "python",
   "name": "conda-base-py"
  },
  "language_info": {
   "codemirror_mode": {
    "name": "ipython",
    "version": 3
   },
   "file_extension": ".py",
   "mimetype": "text/x-python",
   "name": "python",
   "nbconvert_exporter": "python",
   "pygments_lexer": "ipython3",
   "version": "3.12.7"
  }
 },
 "nbformat": 4,
 "nbformat_minor": 5
}
