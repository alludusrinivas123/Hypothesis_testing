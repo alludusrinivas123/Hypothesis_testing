{
 "cells": [
  {
   "cell_type": "markdown",
   "id": "cd43dfac",
   "metadata": {},
   "source": [
    "# 📦 Amazon Case Study – Two-Sample t-Test\n",
    "\n",
    "## 📌 Problem Statement\n",
    "Amazon wants to compare the **average purchase value per transaction** between **Prime users** and **Non-Prime users** to evaluate the impact of its loyalty program.\n",
    "\n",
    "## 🧠 5W1H Analysis\n",
    "\n",
    "- **What**: Average purchase value per transaction\n",
    "- **Why**: To assess if Prime users spend more than Non-Prime users\n",
    "- **When**: Last 1-month transactional data\n",
    "- **Where**: Across major Indian states\n",
    "- **Who**: Prime vs Non-Prime users\n",
    "- **How**: Perform a Two-Sample t-Test between the two user groups\n"
   ]
  },
  {
   "cell_type": "code",
   "execution_count": 2,
   "id": "ce6c0c47",
   "metadata": {},
   "outputs": [
    {
     "data": {
      "text/html": [
       "<div>\n",
       "<style scoped>\n",
       "    .dataframe tbody tr th:only-of-type {\n",
       "        vertical-align: middle;\n",
       "    }\n",
       "\n",
       "    .dataframe tbody tr th {\n",
       "        vertical-align: top;\n",
       "    }\n",
       "\n",
       "    .dataframe thead th {\n",
       "        text-align: right;\n",
       "    }\n",
       "</style>\n",
       "<table border=\"1\" class=\"dataframe\">\n",
       "  <thead>\n",
       "    <tr style=\"text-align: right;\">\n",
       "      <th></th>\n",
       "      <th>User_ID</th>\n",
       "      <th>State</th>\n",
       "      <th>User_Type</th>\n",
       "      <th>Platform</th>\n",
       "      <th>Purchase_Value</th>\n",
       "    </tr>\n",
       "  </thead>\n",
       "  <tbody>\n",
       "    <tr>\n",
       "      <th>0</th>\n",
       "      <td>1</td>\n",
       "      <td>UP</td>\n",
       "      <td>Prime</td>\n",
       "      <td>Desktop</td>\n",
       "      <td>1052.260730</td>\n",
       "    </tr>\n",
       "    <tr>\n",
       "      <th>1</th>\n",
       "      <td>2</td>\n",
       "      <td>Delhi</td>\n",
       "      <td>Prime</td>\n",
       "      <td>Desktop</td>\n",
       "      <td>969.779842</td>\n",
       "    </tr>\n",
       "    <tr>\n",
       "      <th>2</th>\n",
       "      <td>3</td>\n",
       "      <td>UP</td>\n",
       "      <td>Prime</td>\n",
       "      <td>Desktop</td>\n",
       "      <td>1028.930997</td>\n",
       "    </tr>\n",
       "    <tr>\n",
       "      <th>3</th>\n",
       "      <td>4</td>\n",
       "      <td>Delhi</td>\n",
       "      <td>Non-Prime</td>\n",
       "      <td>Desktop</td>\n",
       "      <td>1108.872845</td>\n",
       "    </tr>\n",
       "    <tr>\n",
       "      <th>4</th>\n",
       "      <td>5</td>\n",
       "      <td>Maharashtra</td>\n",
       "      <td>Prime</td>\n",
       "      <td>Mobile</td>\n",
       "      <td>861.573475</td>\n",
       "    </tr>\n",
       "  </tbody>\n",
       "</table>\n",
       "</div>"
      ],
      "text/plain": [
       "   User_ID        State  User_Type Platform  Purchase_Value\n",
       "0        1           UP      Prime  Desktop     1052.260730\n",
       "1        2        Delhi      Prime  Desktop      969.779842\n",
       "2        3           UP      Prime  Desktop     1028.930997\n",
       "3        4        Delhi  Non-Prime  Desktop     1108.872845\n",
       "4        5  Maharashtra      Prime   Mobile      861.573475"
      ]
     },
     "execution_count": 2,
     "metadata": {},
     "output_type": "execute_result"
    }
   ],
   "source": [
    "# 📦 Importing Required Libraries\n",
    "import pandas as pd\n",
    "import numpy as np\n",
    "\n",
    "# Simulate dataset\n",
    "np.random.seed(101)\n",
    "data = pd.DataFrame({\n",
    "    'User_ID': np.arange(1, 1001),\n",
    "    'State': np.random.choice(['Maharashtra', 'Delhi', 'Karnataka', 'UP', 'Tamil Nadu'], 1000),\n",
    "    'User_Type': np.random.choice(['Prime', 'Non-Prime'], 1000),\n",
    "    'Platform': np.random.choice(['Mobile', 'Desktop'], 1000),\n",
    "    'Purchase_Value': np.where(\n",
    "        np.random.rand(1000) < 0.5,\n",
    "        np.random.normal(loc=1200, scale=300, size=1000),  # Prime\n",
    "        np.random.normal(loc=1000, scale=250, size=1000)   # Non-Prime\n",
    "    )\n",
    "})\n",
    "\n",
    "data.head()"
   ]
  },
  {
   "cell_type": "code",
   "execution_count": 4,
   "id": "02d79a50",
   "metadata": {},
   "outputs": [
    {
     "name": "stdout",
     "output_type": "stream",
     "text": [
      "User_ID           0\n",
      "State             0\n",
      "User_Type         0\n",
      "Platform          0\n",
      "Purchase_Value    0\n",
      "dtype: int64\n",
      "           User_ID  Purchase_Value\n",
      "count  1000.000000     1000.000000\n",
      "mean    500.500000     1106.582940\n",
      "std     288.819436      291.169510\n",
      "min       1.000000      221.228713\n",
      "25%     250.750000      911.769516\n",
      "50%     500.500000     1093.572341\n",
      "75%     750.250000     1297.134034\n",
      "max    1000.000000     2110.367115\n",
      "User_Type\n",
      "Non-Prime    518\n",
      "Prime        482\n",
      "Name: count, dtype: int64\n"
     ]
    },
    {
     "data": {
      "image/png": "[encoded data removed]",
      "text/plain": [
       "<Figure size 640x480 with 1 Axes>"
      ]
     },
     "metadata": {},
     "output_type": "display_data"
    }
   ],
   "source": [
    "# 🔍 Data Cleaning\n",
    "print(data.isnull().sum())\n",
    "\n",
    "# 🧪 EDA\n",
    "print(data.describe())\n",
    "print(data['User_Type'].value_counts())\n",
    "\n",
    "import seaborn as sns\n",
    "import matplotlib.pyplot as plt\n",
    "\n",
    "sns.boxplot(data=data, x='User_Type', y='Purchase_Value')\n",
    "plt.title(\"Purchase Value by User Type\")\n",
    "plt.show()\n"
   ]
  },
  {
   "cell_type": "code",
   "execution_count": 6,
   "id": "30604252",
   "metadata": {},
   "outputs": [
    {
     "name": "stdout",
     "output_type": "stream",
     "text": [
      "T-Statistic: -0.7072\n",
      "P-Value: 0.4796\n",
      "One-tailed P-Value: 0.2398\n"
     ]
    }
   ],
   "source": [
    "# 🧪 Two-Sample t-Test\n",
    "from scipy.stats import ttest_ind\n",
    "\n",
    "prime = data[data['User_Type'] == 'Prime']['Purchase_Value']\n",
    "non_prime = data[data['User_Type'] == 'Non-Prime']['Purchase_Value']\n",
    "\n",
    "# Null Hypothesis: Mean of both groups is the same\n",
    "# Alternate Hypothesis: Prime users have higher mean purchase value\n",
    "\n",
    "t_stat, p_value = ttest_ind(prime, non_prime, equal_var=False)\n",
    "\n",
    "print(f\"T-Statistic: {t_stat:.4f}\")\n",
    "print(f\"P-Value: {p_value:.4f}\")\n",
    "\n",
    "# One-tailed test (Prime > Non-Prime)\n",
    "p_value_one_tailed = p_value / 2\n",
    "print(f\"One-tailed P-Value: {p_value_one_tailed:.4f}\")\n"
   ]
  },
  {
   "cell_type": "markdown",
   "id": "2a7c7e18",
   "metadata": {},
   "source": [
    "## ✅ Interpretation + Business Impact\n",
    "\n",
    "- 📊 If **p < 0.05**, we can conclude that Prime users spend **significantly more** than Non-Prime users on average.\n",
    "- 📈 This supports the business value of loyalty programs.\n",
    "\n",
    "\n",
    "The difference between Prime and Non-Prime users isn’t strong enough to confidently say one group is spending more than the other. You may want to explore new strategies to better understand what influences customer spending and see if there are other factors at play.\n",
    "\n",
    "### 💼 Business Impact\n",
    "\n",
    "- Amazon can:\n",
    "  - Justify more investment in Prime promotions.\n",
    "  - Segment marketing campaigns more effectively.\n",
    "  - Predict higher LTV from Prime users.\n"
   ]
  },
  {
   "cell_type": "code",
   "execution_count": null,
   "id": "bf96f0f2-1aae-44d2-928f-cdeb7837b9c1",
   "metadata": {},
   "outputs": [],
   "source": []
  }
 ],
 "metadata": {
  "kernelspec": {
   "display_name": "Python [conda env:base] *",
   "language": "python",
   "name": "conda-base-py"
  },
  "language_info": {
   "codemirror_mode": {
    "name": "ipython",
    "version": 3
   },
   "file_extension": ".py",
   "mimetype": "text/x-python",
   "name": "python",
   "nbconvert_exporter": "python",
   "pygments_lexer": "ipython3",
   "version": "3.12.7"
  }
 },
 "nbformat": 4,
 "nbformat_minor": 5
}
