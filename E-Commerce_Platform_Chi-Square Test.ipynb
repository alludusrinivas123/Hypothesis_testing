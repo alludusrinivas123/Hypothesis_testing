{
 "cells": [
  {
   "cell_type": "markdown",
   "id": "07b143ce-7f83-4b52-b7f3-8c48ea01ac33",
   "metadata": {},
   "source": [
    "# 🔎 E-Commerce Platform – Chi-Square Test\n",
    "\n",
    "## 📌 Problem Statement\n",
    "The company wants to test if there is a significant association between **User Type** (Paid vs Free) and **App Preference** (Mobile App vs Web App).\n",
    "\n",
    "## 🧠 5W1H Analysis\n",
    "\n",
    "- **What**: Relationship between User Type (Paid vs Free) and App Preference (Mobile App vs Web App)\n",
    "- **Why**: To optimize marketing strategies for paid users and free users\n",
    "- **When**: Data collected from 50,000 users over the last quarter\n",
    "- **Where**: Across the entire platform (mobile + web users)\n",
    "- **Who**: A random sample of users from different countries\n",
    "- **How**: Perform a Chi-Square Test for Independence to check for any association\n"
   ]
  },
  {
   "cell_type": "code",
   "execution_count": 2,
   "id": "bdeaa241-d686-4556-ad4a-10ba5eef62d5",
   "metadata": {},
   "outputs": [
    {
     "data": {
      "text/html": [
       "<div>\n",
       "<style scoped>\n",
       "    .dataframe tbody tr th:only-of-type {\n",
       "        vertical-align: middle;\n",
       "    }\n",
       "\n",
       "    .dataframe tbody tr th {\n",
       "        vertical-align: top;\n",
       "    }\n",
       "\n",
       "    .dataframe thead th {\n",
       "        text-align: right;\n",
       "    }\n",
       "</style>\n",
       "<table border=\"1\" class=\"dataframe\">\n",
       "  <thead>\n",
       "    <tr style=\"text-align: right;\">\n",
       "      <th></th>\n",
       "      <th>User_ID</th>\n",
       "      <th>User_Type</th>\n",
       "      <th>App</th>\n",
       "    </tr>\n",
       "  </thead>\n",
       "  <tbody>\n",
       "    <tr>\n",
       "      <th>0</th>\n",
       "      <td>1</td>\n",
       "      <td>Paid</td>\n",
       "      <td>Mobile</td>\n",
       "    </tr>\n",
       "    <tr>\n",
       "      <th>1</th>\n",
       "      <td>2</td>\n",
       "      <td>Free</td>\n",
       "      <td>Mobile</td>\n",
       "    </tr>\n",
       "    <tr>\n",
       "      <th>2</th>\n",
       "      <td>3</td>\n",
       "      <td>Paid</td>\n",
       "      <td>Mobile</td>\n",
       "    </tr>\n",
       "    <tr>\n",
       "      <th>3</th>\n",
       "      <td>4</td>\n",
       "      <td>Paid</td>\n",
       "      <td>Mobile</td>\n",
       "    </tr>\n",
       "    <tr>\n",
       "      <th>4</th>\n",
       "      <td>5</td>\n",
       "      <td>Paid</td>\n",
       "      <td>Web</td>\n",
       "    </tr>\n",
       "  </tbody>\n",
       "</table>\n",
       "</div>"
      ],
      "text/plain": [
       "   User_ID User_Type     App\n",
       "0        1      Paid  Mobile\n",
       "1        2      Free  Mobile\n",
       "2        3      Paid  Mobile\n",
       "3        4      Paid  Mobile\n",
       "4        5      Paid     Web"
      ]
     },
     "execution_count": 2,
     "metadata": {},
     "output_type": "execute_result"
    }
   ],
   "source": [
    "import pandas as pd\n",
    "import numpy as np\n",
    "\n",
    "# Simulate dataset\n",
    "np.random.seed(42)\n",
    "n_users = 5000  # 5,000 users for better sample size\n",
    "\n",
    "data = pd.DataFrame({\n",
    "    'User_ID': np.arange(1, n_users + 1),\n",
    "    'User_Type': np.random.choice(['Paid', 'Free'], n_users),\n",
    "    'App': np.random.choice(['Mobile', 'Web'], n_users)\n",
    "})\n",
    "\n",
    "data.head()"
   ]
  },
  {
   "cell_type": "code",
   "execution_count": 4,
   "id": "a5ae9ded-835f-472b-bdb3-f47d6c2534b5",
   "metadata": {},
   "outputs": [
    {
     "name": "stdout",
     "output_type": "stream",
     "text": [
      "User_ID      0\n",
      "User_Type    0\n",
      "App          0\n",
      "dtype: int64\n"
     ]
    },
    {
     "data": {
      "image/png": "[encoded data removed]",
      "text/plain": [
       "<Figure size 640x480 with 2 Axes>"
      ]
     },
     "metadata": {},
     "output_type": "display_data"
    }
   ],
   "source": [
    "# 🔍 Check for null values\n",
    "print(data.isnull().sum())\n",
    "\n",
    "# 🧪 Visualize the relationship between User Type and App Preference\n",
    "import seaborn as sns\n",
    "import matplotlib.pyplot as plt\n",
    "\n",
    "# Crosstab (Contingency Table)\n",
    "crosstab = pd.crosstab(data['User_Type'], data['App'])\n",
    "\n",
    "# Plotting a heatmap\n",
    "sns.heatmap(crosstab, annot=True, cmap='Blues', fmt='d')\n",
    "plt.title(\"App Preference vs User Type\")\n",
    "plt.show()\n"
   ]
  },
  {
   "cell_type": "code",
   "execution_count": 6,
   "id": "159464f2-92cb-43c8-a690-849da4cd36b5",
   "metadata": {},
   "outputs": [
    {
     "name": "stdout",
     "output_type": "stream",
     "text": [
      "Chi-Square Statistic: 10.3996\n",
      "P-Value: 0.0013\n",
      "Degrees of Freedom: 1\n",
      "Expected Frequencies: \n",
      "[[1252.4928 1243.5072]\n",
      " [1256.5072 1247.4928]]\n"
     ]
    }
   ],
   "source": [
    "from scipy.stats import chi2_contingency\n",
    "\n",
    "# Perform Chi-Square Test for Independence\n",
    "chi2_stat, p_value, dof, expected = chi2_contingency(crosstab)\n",
    "\n",
    "print(f\"Chi-Square Statistic: {chi2_stat:.4f}\")\n",
    "print(f\"P-Value: {p_value:.4f}\")\n",
    "print(f\"Degrees of Freedom: {dof}\")\n",
    "print(f\"Expected Frequencies: \\n{expected}\")\n"
   ]
  },
  {
   "cell_type": "markdown",
   "id": "9c91b512-d2f1-4fb4-8f68-f3d330782da8",
   "metadata": {},
   "source": [
    "## ✅ Interpretation + Business Impact\n",
    "\n",
    "- 📊 If **p < 0.05**, we reject the null hypothesis and conclude that there **is an association** between **User Type** (Paid/Free) and **App Preference** (Mobile/Web).\n",
    "- 🎯 If **p ≥ 0.05**, we fail to reject the null hypothesis, indicating that **User Type** has **no significant impact** on **App Preference**.\n",
    "\n",
    "### 💼 Business Impact\n",
    "\n",
    "- **If significant**: The company could tailor its marketing strategies — for example, focusing more on mobile app promotions for paid users.\n",
    "- **If not significant**: The marketing team can focus on optimizing both platforms without any specific user type differentiation.\n"
   ]
  },
  {
   "cell_type": "code",
   "execution_count": null,
   "id": "2fd721c1-5808-4975-838f-5629e2036328",
   "metadata": {},
   "outputs": [],
   "source": []
  }
 ],
 "metadata": {
  "kernelspec": {
   "display_name": "Python [conda env:base] *",
   "language": "python",
   "name": "conda-base-py"
  },
  "language_info": {
   "codemirror_mode": {
    "name": "ipython",
    "version": 3
   },
   "file_extension": ".py",
   "mimetype": "text/x-python",
   "name": "python",
   "nbconvert_exporter": "python",
   "pygments_lexer": "ipython3",
   "version": "3.12.7"
  }
 },
 "nbformat": 4,
 "nbformat_minor": 5
}
