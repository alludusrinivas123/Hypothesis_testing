{
 "cells": [
  {
   "cell_type": "markdown",
   "id": "e9f7d837-15a0-4339-adb9-c1d9bf9d4141",
   "metadata": {},
   "source": [
    "# Flipkart A/B Testing – Conversion Rate Comparison"
   ]
  },
  {
   "cell_type": "markdown",
   "id": "86620dee-25bc-4d95-a69b-07a6b2416ac1",
   "metadata": {},
   "source": [
    "## 📌 Problem Statement\n",
    "Flipkart ran an A/B test for a **new homepage banner**. They want to test if the new design (Version B) leads to a significantly higher **purchase conversion rate** than the current version (Version A).\n",
    "\n",
    "## 🧠 5W1H\n",
    "\n",
    "- **What**: Conversion rate (purchase made or not)\n",
    "- **Why**: To evaluate the success of UI/UX changes\n",
    "- **When**: Last 7-day campaign test\n",
    "- **Where**: Nationwide sample\n",
    "- **Who**: 10,000 users (5,000 per group)\n",
    "- **How**: Z-Test for two proportions (Binary: Purchased = 1, Not Purchased = 0)\n"
   ]
  },
  {
   "cell_type": "code",
   "execution_count": 3,
   "id": "bec85047-aa28-40e3-abac-cb7fe87a333f",
   "metadata": {},
   "outputs": [
    {
     "data": {
      "text/html": [
       "<div>\n",
       "<style scoped>\n",
       "    .dataframe tbody tr th:only-of-type {\n",
       "        vertical-align: middle;\n",
       "    }\n",
       "\n",
       "    .dataframe tbody tr th {\n",
       "        vertical-align: top;\n",
       "    }\n",
       "\n",
       "    .dataframe thead th {\n",
       "        text-align: right;\n",
       "    }\n",
       "</style>\n",
       "<table border=\"1\" class=\"dataframe\">\n",
       "  <thead>\n",
       "    <tr style=\"text-align: right;\">\n",
       "      <th></th>\n",
       "      <th>User_ID</th>\n",
       "      <th>State</th>\n",
       "      <th>Platform</th>\n",
       "      <th>Group</th>\n",
       "      <th>Purchased</th>\n",
       "    </tr>\n",
       "  </thead>\n",
       "  <tbody>\n",
       "    <tr>\n",
       "      <th>0</th>\n",
       "      <td>1</td>\n",
       "      <td>Tamil Nadu</td>\n",
       "      <td>Smart TV</td>\n",
       "      <td>A</td>\n",
       "      <td>0</td>\n",
       "    </tr>\n",
       "    <tr>\n",
       "      <th>1</th>\n",
       "      <td>2</td>\n",
       "      <td>Maharashtra</td>\n",
       "      <td>Smart TV</td>\n",
       "      <td>B</td>\n",
       "      <td>0</td>\n",
       "    </tr>\n",
       "    <tr>\n",
       "      <th>2</th>\n",
       "      <td>3</td>\n",
       "      <td>Delhi</td>\n",
       "      <td>Smart TV</td>\n",
       "      <td>B</td>\n",
       "      <td>0</td>\n",
       "    </tr>\n",
       "    <tr>\n",
       "      <th>3</th>\n",
       "      <td>4</td>\n",
       "      <td>Gujarat</td>\n",
       "      <td>Mobile</td>\n",
       "      <td>B</td>\n",
       "      <td>0</td>\n",
       "    </tr>\n",
       "    <tr>\n",
       "      <th>4</th>\n",
       "      <td>5</td>\n",
       "      <td>Gujarat</td>\n",
       "      <td>Web</td>\n",
       "      <td>A</td>\n",
       "      <td>0</td>\n",
       "    </tr>\n",
       "  </tbody>\n",
       "</table>\n",
       "</div>"
      ],
      "text/plain": [
       "   User_ID        State  Platform Group  Purchased\n",
       "0        1   Tamil Nadu  Smart TV     A          0\n",
       "1        2  Maharashtra  Smart TV     B          0\n",
       "2        3        Delhi  Smart TV     B          0\n",
       "3        4      Gujarat    Mobile     B          0\n",
       "4        5      Gujarat       Web     A          0"
      ]
     },
     "execution_count": 3,
     "metadata": {},
     "output_type": "execute_result"
    }
   ],
   "source": [
    "import pandas as pd\n",
    "import numpy as np\n",
    "\n",
    "np.random.seed(2025)\n",
    "\n",
    "n = 10000\n",
    "groups = ['A', 'B']\n",
    "states = ['Delhi', 'Karnataka', 'Tamil Nadu', 'Gujarat', 'Maharashtra']\n",
    "platforms = ['Mobile', 'Web', 'Smart TV']\n",
    "\n",
    "df = pd.DataFrame({\n",
    "    'User_ID': range(1, n+1),\n",
    "    'State': np.random.choice(states, n),\n",
    "    'Platform': np.random.choice(platforms, n),\n",
    "    'Group': np.random.choice(groups, n, p=[0.5, 0.5]),\n",
    "})\n",
    "\n",
    "# Simulate conversion (A: 12%, B: 14%)\n",
    "df['Purchased'] = df['Group'].apply(lambda x: np.random.binomial(1, 0.12) if x == 'A' else np.random.binomial(1, 0.14))\n",
    "\n",
    "df.head()\n"
   ]
  },
  {
   "cell_type": "code",
   "execution_count": 7,
   "id": "700ac1d6-7a9c-4cee-b10e-00f940d9c437",
   "metadata": {},
   "outputs": [
    {
     "name": "stdout",
     "output_type": "stream",
     "text": [
      "User_ID      0\n",
      "State        0\n",
      "Platform     0\n",
      "Group        0\n",
      "Purchased    0\n",
      "dtype: int64\n",
      "Group\n",
      "A    0.123992\n",
      "B    0.143849\n",
      "Name: Purchased, dtype: float64\n"
     ]
    },
    {
     "name": "stderr",
     "output_type": "stream",
     "text": [
      "C:\\Users\\WINDOWS\\AppData\\Local\\Temp\\ipykernel_11084\\4082420416.py:12: FutureWarning: \n",
      "\n",
      "The `ci` parameter is deprecated. Use `errorbar=None` for the same effect.\n",
      "\n",
      "  sns.barplot(data=df, x='Group', y='Purchased', ci=None)\n"
     ]
    },
    {
     "data": {
      "image/png": "[encoded data removed]",
      "text/plain": [
       "<Figure size 640x480 with 1 Axes>"
      ]
     },
     "metadata": {},
     "output_type": "display_data"
    }
   ],
   "source": [
    "# Null check\n",
    "print(df.isnull().sum())\n",
    "\n",
    "# Conversion rates\n",
    "conversion_rate = df.groupby('Group')['Purchased'].mean()\n",
    "print(conversion_rate)\n",
    "\n",
    "# Bar plot\n",
    "import seaborn as sns\n",
    "import matplotlib.pyplot as plt\n",
    "\n",
    "sns.barplot(data=df, x='Group', y='Purchased', ci=None)\n",
    "plt.title(\"Conversion Rate: A vs B\")\n",
    "plt.show()\n"
   ]
  },
  {
   "cell_type": "code",
   "execution_count": 9,
   "id": "edc1f038-b72f-4c5f-aabf-e1fb474c3613",
   "metadata": {},
   "outputs": [
    {
     "name": "stdout",
     "output_type": "stream",
     "text": [
      "Z-Statistic: -2.9145\n",
      "P-Value: 0.0036\n"
     ]
    }
   ],
   "source": [
    "from statsmodels.stats.proportion import proportions_ztest\n",
    "\n",
    "# Success counts\n",
    "success_counts = df.groupby('Group')['Purchased'].sum().values\n",
    "n_obs = df['Group'].value_counts().sort_index().values\n",
    "\n",
    "# Z-Test\n",
    "z_stat, p_val = proportions_ztest(count=success_counts, nobs=n_obs)\n",
    "\n",
    "print(f\"Z-Statistic: {z_stat:.4f}\")\n",
    "print(f\"P-Value: {p_val:.4f}\")\n"
   ]
  },
  {
   "cell_type": "markdown",
   "id": "cdbe7ba2-0a5d-4862-bf23-be9f900df157",
   "metadata": {},
   "source": [
    "## 🎯 Hypotheses\n",
    "\n",
    "- H₀: p_A = p_B → No difference in conversion rates\n",
    "- H₁: p_A ≠ p_B → A significant difference exists\n",
    "\n",
    "### 📈 Interpretation\n",
    "\n",
    "- If **p < 0.05** → Reject H₀ → Banner B **does impact** conversions\n",
    "- If **p ≥ 0.05** → Fail to reject H₀ → No strong evidence of a difference\n",
    "\n",
    "## 💼 Business Impact\n",
    "\n",
    "- ✅ If significant:\n",
    "  - Roll out **Version B** to all users — it boosts conversions\n",
    "  - A/B testing validated → similar experiments can optimize other features\n",
    "- ❌ If not significant:\n",
    "  - Keep Version A or redesign\n",
    "  - Investigate deeper into segment-wise performance (state/platform)\n",
    "\n"
   ]
  },
  {
   "cell_type": "code",
   "execution_count": null,
   "id": "a7ebfc1a-ee65-4392-89ad-65cc49e0be99",
   "metadata": {},
   "outputs": [],
   "source": []
  }
 ],
 "metadata": {
  "kernelspec": {
   "display_name": "Python [conda env:base] *",
   "language": "python",
   "name": "conda-base-py"
  },
  "language_info": {
   "codemirror_mode": {
    "name": "ipython",
    "version": 3
   },
   "file_extension": ".py",
   "mimetype": "text/x-python",
   "name": "python",
   "nbconvert_exporter": "python",
   "pygments_lexer": "ipython3",
   "version": "3.12.7"
  }
 },
 "nbformat": 4,
 "nbformat_minor": 5
}
