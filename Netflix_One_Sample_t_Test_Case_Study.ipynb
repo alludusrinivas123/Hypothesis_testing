{
 "cells": [
  {
   "cell_type": "markdown",
   "id": "bb95be73",
   "metadata": {},
   "source": [
    "# 🎯 Netflix Case Study – One-Sample t-Test\n",
    "\n",
    "## 📌 Problem Statement\n",
    "Netflix wants to assess whether the **average watch time per user per day** has crossed the internal benchmark of **90 minutes/day**.\n",
    "\n",
    "## 🧠 5W1H Analysis\n",
    "\n",
    "- **What**: Average watch time per user per day\n",
    "- **Why**: To measure engagement and retention improvements after new content drops\n",
    "- **When**: Data from the last 30 days\n",
    "- **Where**: Across multiple states in India\n",
    "- **Who**: Netflix users (mobile & desktop)\n",
    "- **How**: Conduct a One-Sample t-Test against the 90-minute benchmark\n"
   ]
  },
  {
   "cell_type": "code",
   "execution_count": 1,
   "id": "ee8cc971",
   "metadata": {},
   "outputs": [
    {
     "data": {
      "text/html": [
       "<div>\n",
       "<style scoped>\n",
       "    .dataframe tbody tr th:only-of-type {\n",
       "        vertical-align: middle;\n",
       "    }\n",
       "\n",
       "    .dataframe tbody tr th {\n",
       "        vertical-align: top;\n",
       "    }\n",
       "\n",
       "    .dataframe thead th {\n",
       "        text-align: right;\n",
       "    }\n",
       "</style>\n",
       "<table border=\"1\" class=\"dataframe\">\n",
       "  <thead>\n",
       "    <tr style=\"text-align: right;\">\n",
       "      <th></th>\n",
       "      <th>User_ID</th>\n",
       "      <th>State</th>\n",
       "      <th>Platform</th>\n",
       "      <th>User_Type</th>\n",
       "      <th>Watch_Time_Minutes</th>\n",
       "    </tr>\n",
       "  </thead>\n",
       "  <tbody>\n",
       "    <tr>\n",
       "      <th>0</th>\n",
       "      <td>1</td>\n",
       "      <td>Tamil Nadu</td>\n",
       "      <td>Desktop</td>\n",
       "      <td>Premium</td>\n",
       "      <td>95.261330</td>\n",
       "    </tr>\n",
       "    <tr>\n",
       "      <th>1</th>\n",
       "      <td>2</td>\n",
       "      <td>West Bengal</td>\n",
       "      <td>Desktop</td>\n",
       "      <td>Basic</td>\n",
       "      <td>79.488864</td>\n",
       "    </tr>\n",
       "    <tr>\n",
       "      <th>2</th>\n",
       "      <td>3</td>\n",
       "      <td>Delhi</td>\n",
       "      <td>Desktop</td>\n",
       "      <td>Premium</td>\n",
       "      <td>101.240270</td>\n",
       "    </tr>\n",
       "    <tr>\n",
       "      <th>3</th>\n",
       "      <td>4</td>\n",
       "      <td>West Bengal</td>\n",
       "      <td>Mobile</td>\n",
       "      <td>Premium</td>\n",
       "      <td>90.150979</td>\n",
       "    </tr>\n",
       "    <tr>\n",
       "      <th>4</th>\n",
       "      <td>5</td>\n",
       "      <td>West Bengal</td>\n",
       "      <td>Desktop</td>\n",
       "      <td>Basic</td>\n",
       "      <td>86.772770</td>\n",
       "    </tr>\n",
       "  </tbody>\n",
       "</table>\n",
       "</div>"
      ],
      "text/plain": [
       "   User_ID        State Platform User_Type  Watch_Time_Minutes\n",
       "0        1   Tamil Nadu  Desktop   Premium           95.261330\n",
       "1        2  West Bengal  Desktop     Basic           79.488864\n",
       "2        3        Delhi  Desktop   Premium          101.240270\n",
       "3        4  West Bengal   Mobile   Premium           90.150979\n",
       "4        5  West Bengal  Desktop     Basic           86.772770"
      ]
     },
     "execution_count": 1,
     "metadata": {},
     "output_type": "execute_result"
    }
   ],
   "source": [
    "# 📦 Importing Required Libraries\n",
    "import pandas as pd\n",
    "import numpy as np\n",
    "\n",
    "# Simulate dataset\n",
    "np.random.seed(42)\n",
    "data = pd.DataFrame({\n",
    "    'User_ID': np.arange(1, 501),\n",
    "    'State': np.random.choice(['Maharashtra', 'Karnataka', 'Delhi', 'Tamil Nadu', 'West Bengal'], 500),\n",
    "    'Platform': np.random.choice(['Mobile', 'Desktop'], 500),\n",
    "    'User_Type': np.random.choice(['Basic', 'Premium'], 500),\n",
    "    'Watch_Time_Minutes': np.random.normal(loc=92, scale=10, size=500)  # mean > 90 to test significance\n",
    "})\n",
    "\n",
    "data.head()"
   ]
  },
  {
   "cell_type": "code",
   "execution_count": 3,
   "id": "c403079d",
   "metadata": {},
   "outputs": [
    {
     "name": "stdout",
     "output_type": "stream",
     "text": [
      "User_ID               0\n",
      "State                 0\n",
      "Platform              0\n",
      "User_Type             0\n",
      "Watch_Time_Minutes    0\n",
      "dtype: int64\n",
      "          User_ID  Watch_Time_Minutes\n",
      "count  500.000000          500.000000\n",
      "mean   250.500000           92.989081\n",
      "std    144.481833            9.904140\n",
      "min      1.000000           63.037446\n",
      "25%    125.750000           86.371303\n",
      "50%    250.500000           93.305370\n",
      "75%    375.250000           99.288822\n",
      "max    500.000000          118.323821\n",
      "State\n",
      "Tamil Nadu     112\n",
      "Maharashtra    109\n",
      "Karnataka       95\n",
      "West Bengal     93\n",
      "Delhi           91\n",
      "Name: count, dtype: int64\n",
      "Platform\n",
      "Mobile     267\n",
      "Desktop    233\n",
      "Name: count, dtype: int64\n",
      "User_Type\n",
      "Basic      258\n",
      "Premium    242\n",
      "Name: count, dtype: int64\n"
     ]
    },
    {
     "data": {
      "image/png": "[encoded data removed]",
      "text/plain": [
       "<Figure size 640x480 with 1 Axes>"
      ]
     },
     "metadata": {},
     "output_type": "display_data"
    }
   ],
   "source": [
    "# 🔍 Data Cleaning\n",
    "print(data.isnull().sum())\n",
    "\n",
    "# 🧪 EDA\n",
    "print(data.describe())\n",
    "print(data['State'].value_counts())\n",
    "print(data['Platform'].value_counts())\n",
    "print(data['User_Type'].value_counts())\n",
    "\n",
    "import seaborn as sns\n",
    "import matplotlib.pyplot as plt\n",
    "\n",
    "# Distribution plot\n",
    "sns.histplot(data['Watch_Time_Minutes'], kde=True)\n",
    "plt.axvline(x=90, color='red', linestyle='--', label='Benchmark (90 mins)')\n",
    "plt.title(\"Watch Time Distribution\")\n",
    "plt.legend()\n",
    "plt.show()\n"
   ]
  },
  {
   "cell_type": "code",
   "execution_count": 11,
   "id": "544a679e",
   "metadata": {},
   "outputs": [
    {
     "name": "stdout",
     "output_type": "stream",
     "text": [
      "T-Statistic: 6.7485\n",
      "P-Value: 0.0000\n",
      "One-tailed P-Value: 0.0000\n"
     ]
    }
   ],
   "source": [
    "# 🧪 One-Sample t-Test\n",
    "from scipy.stats import ttest_1samp\n",
    "\n",
    "# Null Hypothesis (H0): Mean = 90 mins\n",
    "# Alternate Hypothesis (H1): Mean > 90 mins\n",
    "\n",
    "t_stat, p_value = ttest_1samp(data['Watch_Time_Minutes'], popmean=90)\n",
    "\n",
    "print(f\"T-Statistic: {t_stat:.4f}\")\n",
    "print(f\"P-Value: {p_value:.4f}\")\n",
    "\n",
    "# One-tailed test (mean > 90)\n",
    "p_value_one_tailed = p_value / 2\n",
    "print(f\"One-tailed P-Value: {p_value_one_tailed:.4f}\")\n"
   ]
  },
  {
   "cell_type": "markdown",
   "id": "b37472b0",
   "metadata": {},
   "source": [
    "## ✅ Interpretation + Business Impact\n",
    "\n",
    "- 📊 **T-Statistic** and **P-Value** help us determine if the average watch time is **significantly greater than 90 minutes**.\n",
    "- 🎯 If **p < 0.05**, we reject the null hypothesis and confirm increased user engagement.\n",
    "\n",
    "### 💼 Business Impact\n",
    "\n",
    "- If proven, Netflix can:\n",
    "  - Consider the recent content push a success.\n",
    "  - Use the result to drive marketing campaigns.\n",
    "  - Continue investing in similar content categories.\n"
   ]
  },
  {
   "cell_type": "code",
   "execution_count": null,
   "id": "d3044fa2-33b3-4952-8f95-ba8d06dd6a08",
   "metadata": {},
   "outputs": [],
   "source": []
  }
 ],
 "metadata": {
  "kernelspec": {
   "display_name": "Python [conda env:base] *",
   "language": "python",
   "name": "conda-base-py"
  },
  "language_info": {
   "codemirror_mode": {
    "name": "ipython",
    "version": 3
   },
   "file_extension": ".py",
   "mimetype": "text/x-python",
   "name": "python",
   "nbconvert_exporter": "python",
   "pygments_lexer": "ipython3",
   "version": "3.12.7"
  }
 },
 "nbformat": 4,
 "nbformat_minor": 5
}
